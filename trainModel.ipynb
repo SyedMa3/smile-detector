{
  "cells": [
    {
      "cell_type": "code",
      "execution_count": 3,
      "id": "85de3c3b",
      "metadata": {
        "id": "85de3c3b"
      },
      "outputs": [],
      "source": [
        "from sklearn.preprocessing import LabelEncoder\n",
        "from sklearn.model_selection import train_test_split\n",
        "from sklearn.metrics import classification_report\n",
        "from cnn import MiniVGGNet\n",
        "from tensorflow.keras.preprocessing.image import img_to_array\n",
        "from tensorflow.keras.utils import to_categorical\n",
        "from imutils import paths\n",
        "import matplotlib.pyplot as plt\n",
        "import numpy as np\n",
        "import imutils\n",
        "import cv2\n",
        "import os"
      ]
    },
    {
      "cell_type": "code",
      "execution_count": 4,
      "id": "3ec4787a",
      "metadata": {
        "id": "3ec4787a"
      },
      "outputs": [],
      "source": [
        "images = []\n",
        "labels = []\n",
        "\n",
        "for imagePath in list(paths.list_images(\"SMILEs\")):\n",
        "    image = cv2.imread(imagePath)\n",
        "    image = imutils.resize(image, width = 32)\n",
        "    image = img_to_array(image)\n",
        "    images.append(image)\n",
        "    \n",
        "    label = imagePath.split(os.path.sep)[-3]\n",
        "    label = \"smiling\" if label == \"positives\" else \"not smiling\"\n",
        "    labels.append(label)"
      ]
    },
    {
      "cell_type": "code",
      "execution_count": 5,
      "id": "6773e485",
      "metadata": {
        "id": "6773e485"
      },
      "outputs": [],
      "source": [
        "images = np.array(images, dtype=\"float\")/ 255.0\n",
        "labels = np.array(labels)\n",
        "\n",
        "le = LabelEncoder().fit(labels)\n",
        "labels = to_categorical(le.transform(labels), 2)\n",
        "\n",
        "classTotals = labels.sum(axis=0)\n",
        "classWeight = dict()\n",
        "\n",
        "for i in range(0, len(classTotals)):\n",
        "    classWeight[i] = classTotals.max() / classTotals[i]"
      ]
    },
    {
      "cell_type": "code",
      "execution_count": 6,
      "id": "c7d529bc",
      "metadata": {
        "colab": {
          "base_uri": "https://localhost:8080/"
        },
        "id": "c7d529bc",
        "outputId": "4c664ff1-783b-41a3-a1e7-f93eaa491672"
      },
      "outputs": [
        {
          "output_type": "stream",
          "name": "stdout",
          "text": [
            "Epoch 1/15\n",
            "330/330 [==============================] - 16s 12ms/step - loss: 0.6262 - accuracy: 0.8263 - val_loss: 0.4440 - val_accuracy: 0.8530\n",
            "Epoch 2/15\n",
            "330/330 [==============================] - 3s 10ms/step - loss: 0.4365 - accuracy: 0.8791 - val_loss: 0.2249 - val_accuracy: 0.9142\n",
            "Epoch 3/15\n",
            "330/330 [==============================] - 3s 9ms/step - loss: 0.3676 - accuracy: 0.8986 - val_loss: 0.2668 - val_accuracy: 0.8963\n",
            "Epoch 4/15\n",
            "330/330 [==============================] - 3s 9ms/step - loss: 0.3398 - accuracy: 0.9075 - val_loss: 0.3039 - val_accuracy: 0.8625\n",
            "Epoch 5/15\n",
            "330/330 [==============================] - 3s 9ms/step - loss: 0.3124 - accuracy: 0.9146 - val_loss: 0.7600 - val_accuracy: 0.8435\n",
            "Epoch 6/15\n",
            "330/330 [==============================] - 3s 9ms/step - loss: 0.3092 - accuracy: 0.9158 - val_loss: 0.6298 - val_accuracy: 0.8374\n",
            "Epoch 7/15\n",
            "330/330 [==============================] - 3s 9ms/step - loss: 0.3604 - accuracy: 0.9006 - val_loss: 0.2503 - val_accuracy: 0.9020\n",
            "Epoch 8/15\n",
            "330/330 [==============================] - 3s 9ms/step - loss: 0.3028 - accuracy: 0.9200 - val_loss: 0.2163 - val_accuracy: 0.9206\n",
            "Epoch 9/15\n",
            "330/330 [==============================] - 3s 9ms/step - loss: 0.2652 - accuracy: 0.9276 - val_loss: 0.2078 - val_accuracy: 0.9199\n",
            "Epoch 10/15\n",
            "330/330 [==============================] - 3s 10ms/step - loss: 0.2613 - accuracy: 0.9299 - val_loss: 0.2162 - val_accuracy: 0.9210\n",
            "Epoch 11/15\n",
            "330/330 [==============================] - 3s 10ms/step - loss: 0.2505 - accuracy: 0.9295 - val_loss: 0.2384 - val_accuracy: 0.9134\n",
            "Epoch 12/15\n",
            "330/330 [==============================] - 3s 10ms/step - loss: 0.2402 - accuracy: 0.9314 - val_loss: 0.2081 - val_accuracy: 0.9199\n",
            "Epoch 13/15\n",
            "330/330 [==============================] - 3s 9ms/step - loss: 0.2154 - accuracy: 0.9417 - val_loss: 0.2034 - val_accuracy: 0.9286\n",
            "Epoch 14/15\n",
            "330/330 [==============================] - 3s 9ms/step - loss: 0.2160 - accuracy: 0.9390 - val_loss: 0.2258 - val_accuracy: 0.9172\n",
            "Epoch 15/15\n",
            "330/330 [==============================] - 4s 11ms/step - loss: 0.2009 - accuracy: 0.9458 - val_loss: 0.2198 - val_accuracy: 0.9202\n"
          ]
        }
      ],
      "source": [
        "(trainX, testX, trainY, testY) = train_test_split(images,\n",
        "    labels, test_size=0.20, stratify=labels)\n",
        "\n",
        "model = MiniVGGNet.MiniVGGNet.build(width=32, height=32, depth=3, classes=2)\n",
        "model.compile(loss=\"binary_crossentropy\", optimizer=\"adam\",\n",
        "    metrics=[\"accuracy\"])\n",
        "\n",
        "H = model.fit(trainX, trainY, validation_data=(testX, testY),\n",
        "    class_weight=classWeight, batch_size=32, epochs=15, verbose=1)"
      ]
    },
    {
      "cell_type": "code",
      "source": [
        "predictions = model.predict(testX, batch_size=64)\n",
        "print(classification_report(testY.argmax(axis=1),\n",
        "\tpredictions.argmax(axis=1), target_names=le.classes_))"
      ],
      "metadata": {
        "colab": {
          "base_uri": "https://localhost:8080/"
        },
        "id": "rn8jG-mgLf4Z",
        "outputId": "795a50f2-2a1a-48f1-d7ba-f2516c5b9ddb"
      },
      "id": "rn8jG-mgLf4Z",
      "execution_count": 7,
      "outputs": [
        {
          "output_type": "stream",
          "name": "stdout",
          "text": [
            "              precision    recall  f1-score   support\n",
            "\n",
            " not smiling       0.95      0.94      0.94      1895\n",
            "     smiling       0.84      0.88      0.86       738\n",
            "\n",
            "    accuracy                           0.92      2633\n",
            "   macro avg       0.90      0.91      0.90      2633\n",
            "weighted avg       0.92      0.92      0.92      2633\n",
            "\n"
          ]
        }
      ]
    },
    {
      "cell_type": "code",
      "source": [
        "plt.style.use(\"ggplot\")\n",
        "plt.figure()\n",
        "plt.plot(np.arange(0, 15), H.history[\"loss\"], label=\"train_loss\")\n",
        "plt.plot(np.arange(0, 15), H.history[\"val_loss\"], label=\"val_loss\")\n",
        "plt.plot(np.arange(0, 15), H.history[\"accuracy\"], label=\"acc\")\n",
        "plt.plot(np.arange(0, 15), H.history[\"val_accuracy\"], label=\"val_acc\")\n",
        "plt.title(\"Training Loss and Accuracy\")\n",
        "plt.xlabel(\"Epoch #\")\n",
        "plt.ylabel(\"Loss/Accuracy\")\n",
        "plt.legend()\n",
        "plt.show()"
      ],
      "metadata": {
        "colab": {
          "base_uri": "https://localhost:8080/",
          "height": 299
        },
        "id": "aVpoOccxNteO",
        "outputId": "c6298e8b-0a9c-4a5f-b16f-14a4cafab260"
      },
      "id": "aVpoOccxNteO",
      "execution_count": 8,
      "outputs": [
        {
          "output_type": "display_data",
          "data": {
            "image/png": "[encoded data removed]",
            "text/plain": [
              "<Figure size 432x288 with 1 Axes>"
            ]
          },
          "metadata": {}
        }
      ]
    },
    {
      "cell_type": "code",
      "source": [
        "model.save('model/output.h5')"
      ],
      "metadata": {
        "id": "rQECd7lVNu0e"
      },
      "id": "rQECd7lVNu0e",
      "execution_count": 9,
      "outputs": []
    },
    {
      "cell_type": "code",
      "source": [
        ""
      ],
      "metadata": {
        "id": "Eww3UJyTP77C"
      },
      "id": "Eww3UJyTP77C",
      "execution_count": 9,
      "outputs": []
    }
  ],
  "metadata": {
    "kernelspec": {
      "display_name": "Python 3 (ipykernel)",
      "language": "python",
      "name": "python3"
    },
    "language_info": {
      "codemirror_mode": {
        "name": "ipython",
        "version": 3
      },
      "file_extension": ".py",
      "mimetype": "text/x-python",
      "name": "python",
      "nbconvert_exporter": "python",
      "pygments_lexer": "ipython3",
      "version": "3.9.7"
    },
    "colab": {
      "name": "trainModel.ipynb",
      "provenance": [],
      "collapsed_sections": []
    },
    "accelerator": "GPU"
  },
  "nbformat": 4,
  "nbformat_minor": 5
}